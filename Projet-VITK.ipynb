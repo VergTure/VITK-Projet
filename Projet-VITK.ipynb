{
 "cells": [
  {
   "cell_type": "markdown",
   "id": "d0f7f2ac",
   "metadata": {},
   "source": [
    "# VITK Project\n",
    "\n",
    "Benjamin Clene\n",
    "Yanis Farhat"
   ]
  },
  {
   "cell_type": "code",
   "execution_count": 24,
   "id": "620d74d9",
   "metadata": {
    "collapsed": true
   },
   "outputs": [
    {
     "name": "stdout",
     "output_type": "stream",
     "text": [
      "Requirement already satisfied: itkwidgets in c:\\users\\benji\\appdata\\local\\programs\\python\\python39\\lib\\site-packages (0.32.6)\n",
      "Requirement already satisfied: colorcet in c:\\users\\benji\\appdata\\local\\programs\\python\\python39\\lib\\site-packages (from itkwidgets) (3.0.1)\n",
      "Requirement already satisfied: itk-core>=5.3.0 in c:\\users\\benji\\appdata\\local\\programs\\python\\python39\\lib\\site-packages (from itkwidgets) (5.3.0)\n",
      "Requirement already satisfied: itk-filtering>=5.3.0 in c:\\users\\benji\\appdata\\local\\programs\\python\\python39\\lib\\site-packages (from itkwidgets) (5.3.0)\n",
      "Requirement already satisfied: itk-numerics>=5.3.0 in c:\\users\\benji\\appdata\\local\\programs\\python\\python39\\lib\\site-packages (from itkwidgets) (5.3.0)\n",
      "Requirement already satisfied: itk-meshtopolydata>=0.10 in c:\\users\\benji\\appdata\\local\\programs\\python\\python39\\lib\\site-packages (from itkwidgets) (0.10.0)\n",
      "Requirement already satisfied: ipydatawidgets<4.3.3,>=4.0.1 in c:\\users\\benji\\appdata\\local\\programs\\python\\python39\\lib\\site-packages (from itkwidgets) (4.3.2)\n",
      "Requirement already satisfied: ipywidgets>=7.5.1 in c:\\users\\benji\\appdata\\local\\programs\\python\\python39\\lib\\site-packages (from itkwidgets) (7.7.5)\n",
      "Requirement already satisfied: ipympl>=0.4.1 in c:\\users\\benji\\appdata\\local\\programs\\python\\python39\\lib\\site-packages (from itkwidgets) (0.9.3)\n",
      "Requirement already satisfied: matplotlib in c:\\users\\benji\\appdata\\local\\programs\\python\\python39\\lib\\site-packages (from itkwidgets) (3.7.1)\n",
      "Requirement already satisfied: numpy in c:\\users\\benji\\appdata\\local\\programs\\python\\python39\\lib\\site-packages (from itkwidgets) (1.25.0)\n",
      "Requirement already satisfied: six in c:\\users\\benji\\appdata\\local\\programs\\python\\python39\\lib\\site-packages (from itkwidgets) (1.16.0)\n",
      "Requirement already satisfied: zstandard in c:\\users\\benji\\appdata\\local\\programs\\python\\python39\\lib\\site-packages (from itkwidgets) (0.21.0)\n",
      "Requirement already satisfied: traitlets<5.7.0 in c:\\users\\benji\\appdata\\local\\programs\\python\\python39\\lib\\site-packages (from itkwidgets) (5.6.0)\n",
      "Requirement already satisfied: notebook<6.5.0 in c:\\users\\benji\\appdata\\local\\programs\\python\\python39\\lib\\site-packages (from itkwidgets) (6.4.12)\n",
      "Requirement already satisfied: traittypes>=0.2.0 in c:\\users\\benji\\appdata\\local\\programs\\python\\python39\\lib\\site-packages (from ipydatawidgets<4.3.3,>=4.0.1->itkwidgets) (0.2.1)\n",
      "Requirement already satisfied: ipython<9 in c:\\users\\benji\\appdata\\local\\programs\\python\\python39\\lib\\site-packages (from ipympl>=0.4.1->itkwidgets) (8.13.1)\n",
      "Requirement already satisfied: ipython-genutils in c:\\users\\benji\\appdata\\local\\programs\\python\\python39\\lib\\site-packages (from ipympl>=0.4.1->itkwidgets) (0.2.0)\n",
      "Requirement already satisfied: pillow in c:\\users\\benji\\appdata\\local\\programs\\python\\python39\\lib\\site-packages (from ipympl>=0.4.1->itkwidgets) (9.5.0)\n",
      "Requirement already satisfied: ipykernel>=4.5.1 in c:\\users\\benji\\appdata\\local\\programs\\python\\python39\\lib\\site-packages (from ipywidgets>=7.5.1->itkwidgets) (6.22.0)\n",
      "Requirement already satisfied: widgetsnbextension~=3.6.4 in c:\\users\\benji\\appdata\\local\\programs\\python\\python39\\lib\\site-packages (from ipywidgets>=7.5.1->itkwidgets) (3.6.4)\n",
      "Requirement already satisfied: jupyterlab-widgets<3,>=1.0.0 in c:\\users\\benji\\appdata\\local\\programs\\python\\python39\\lib\\site-packages (from ipywidgets>=7.5.1->itkwidgets) (1.1.4)\n",
      "Requirement already satisfied: contourpy>=1.0.1 in c:\\users\\benji\\appdata\\local\\programs\\python\\python39\\lib\\site-packages (from matplotlib->itkwidgets) (1.0.7)\n",
      "Requirement already satisfied: cycler>=0.10 in c:\\users\\benji\\appdata\\local\\programs\\python\\python39\\lib\\site-packages (from matplotlib->itkwidgets) (0.11.0)\n",
      "Requirement already satisfied: fonttools>=4.22.0 in c:\\users\\benji\\appdata\\local\\programs\\python\\python39\\lib\\site-packages (from matplotlib->itkwidgets) (4.39.3)\n",
      "Requirement already satisfied: kiwisolver>=1.0.1 in c:\\users\\benji\\appdata\\local\\programs\\python\\python39\\lib\\site-packages (from matplotlib->itkwidgets) (1.4.4)\n",
      "Requirement already satisfied: packaging>=20.0 in c:\\users\\benji\\appdata\\local\\programs\\python\\python39\\lib\\site-packages (from matplotlib->itkwidgets) (23.1)\n",
      "Requirement already satisfied: pyparsing>=2.3.1 in c:\\users\\benji\\appdata\\local\\programs\\python\\python39\\lib\\site-packages (from matplotlib->itkwidgets) (3.0.9)\n",
      "Requirement already satisfied: python-dateutil>=2.7 in c:\\users\\benji\\appdata\\local\\programs\\python\\python39\\lib\\site-packages (from matplotlib->itkwidgets) (2.8.2)\n",
      "Requirement already satisfied: importlib-resources>=3.2.0 in c:\\users\\benji\\appdata\\local\\programs\\python\\python39\\lib\\site-packages (from matplotlib->itkwidgets) (5.12.0)\n",
      "Requirement already satisfied: jinja2 in c:\\users\\benji\\appdata\\local\\programs\\python\\python39\\lib\\site-packages (from notebook<6.5.0->itkwidgets) (3.1.2)\n",
      "Requirement already satisfied: tornado>=6.1 in c:\\users\\benji\\appdata\\local\\programs\\python\\python39\\lib\\site-packages (from notebook<6.5.0->itkwidgets) (6.3.1)\n",
      "Requirement already satisfied: pyzmq>=17 in c:\\users\\benji\\appdata\\local\\programs\\python\\python39\\lib\\site-packages (from notebook<6.5.0->itkwidgets) (25.0.2)\n",
      "Requirement already satisfied: argon2-cffi in c:\\users\\benji\\appdata\\local\\programs\\python\\python39\\lib\\site-packages (from notebook<6.5.0->itkwidgets) (21.3.0)\n",
      "Requirement already satisfied: jupyter-core>=4.6.1 in c:\\users\\benji\\appdata\\local\\programs\\python\\python39\\lib\\site-packages (from notebook<6.5.0->itkwidgets) (5.3.0)\n",
      "Requirement already satisfied: jupyter-client>=5.3.4 in c:\\users\\benji\\appdata\\local\\programs\\python\\python39\\lib\\site-packages (from notebook<6.5.0->itkwidgets) (8.2.0)\n",
      "Requirement already satisfied: nbformat in c:\\users\\benji\\appdata\\local\\programs\\python\\python39\\lib\\site-packages (from notebook<6.5.0->itkwidgets) (5.8.0)\n",
      "Requirement already satisfied: nbconvert>=5 in c:\\users\\benji\\appdata\\local\\programs\\python\\python39\\lib\\site-packages (from notebook<6.5.0->itkwidgets) (7.3.1)\n",
      "Requirement already satisfied: nest-asyncio>=1.5 in c:\\users\\benji\\appdata\\local\\programs\\python\\python39\\lib\\site-packages (from notebook<6.5.0->itkwidgets) (1.5.6)\n",
      "Requirement already satisfied: Send2Trash>=1.8.0 in c:\\users\\benji\\appdata\\local\\programs\\python\\python39\\lib\\site-packages (from notebook<6.5.0->itkwidgets) (1.8.2)\n",
      "Requirement already satisfied: terminado>=0.8.3 in c:\\users\\benji\\appdata\\local\\programs\\python\\python39\\lib\\site-packages (from notebook<6.5.0->itkwidgets) (0.17.1)\n",
      "Requirement already satisfied: prometheus-client in c:\\users\\benji\\appdata\\local\\programs\\python\\python39\\lib\\site-packages (from notebook<6.5.0->itkwidgets) (0.16.0)\n",
      "Requirement already satisfied: pyct>=0.4.4 in c:\\users\\benji\\appdata\\local\\programs\\python\\python39\\lib\\site-packages (from colorcet->itkwidgets) (0.5.0)\n",
      "Requirement already satisfied: zipp>=3.1.0 in c:\\users\\benji\\appdata\\local\\programs\\python\\python39\\lib\\site-packages (from importlib-resources>=3.2.0->matplotlib->itkwidgets) (3.15.0)\n",
      "Requirement already satisfied: comm>=0.1.1 in c:\\users\\benji\\appdata\\local\\programs\\python\\python39\\lib\\site-packages (from ipykernel>=4.5.1->ipywidgets>=7.5.1->itkwidgets) (0.1.3)\n",
      "Requirement already satisfied: debugpy>=1.6.5 in c:\\users\\benji\\appdata\\local\\programs\\python\\python39\\lib\\site-packages (from ipykernel>=4.5.1->ipywidgets>=7.5.1->itkwidgets) (1.6.7)\n",
      "Requirement already satisfied: matplotlib-inline>=0.1 in c:\\users\\benji\\appdata\\local\\programs\\python\\python39\\lib\\site-packages (from ipykernel>=4.5.1->ipywidgets>=7.5.1->itkwidgets) (0.1.6)\n",
      "Requirement already satisfied: psutil in c:\\users\\benji\\appdata\\local\\programs\\python\\python39\\lib\\site-packages (from ipykernel>=4.5.1->ipywidgets>=7.5.1->itkwidgets) (5.9.5)\n",
      "Requirement already satisfied: backcall in c:\\users\\benji\\appdata\\local\\programs\\python\\python39\\lib\\site-packages (from ipython<9->ipympl>=0.4.1->itkwidgets) (0.2.0)\n",
      "Requirement already satisfied: decorator in c:\\users\\benji\\appdata\\local\\programs\\python\\python39\\lib\\site-packages (from ipython<9->ipympl>=0.4.1->itkwidgets) (4.4.2)\n",
      "Requirement already satisfied: jedi>=0.16 in c:\\users\\benji\\appdata\\local\\programs\\python\\python39\\lib\\site-packages (from ipython<9->ipympl>=0.4.1->itkwidgets) (0.18.2)\n",
      "Requirement already satisfied: pickleshare in c:\\users\\benji\\appdata\\local\\programs\\python\\python39\\lib\\site-packages (from ipython<9->ipympl>=0.4.1->itkwidgets) (0.7.5)\n",
      "Requirement already satisfied: prompt-toolkit!=3.0.37,<3.1.0,>=3.0.30 in c:\\users\\benji\\appdata\\local\\programs\\python\\python39\\lib\\site-packages (from ipython<9->ipympl>=0.4.1->itkwidgets) (3.0.38)\n",
      "Requirement already satisfied: pygments>=2.4.0 in c:\\users\\benji\\appdata\\local\\programs\\python\\python39\\lib\\site-packages (from ipython<9->ipympl>=0.4.1->itkwidgets) (2.15.1)\n",
      "Requirement already satisfied: stack-data in c:\\users\\benji\\appdata\\local\\programs\\python\\python39\\lib\\site-packages (from ipython<9->ipympl>=0.4.1->itkwidgets) (0.6.2)\n",
      "Requirement already satisfied: typing-extensions in c:\\users\\benji\\appdata\\local\\programs\\python\\python39\\lib\\site-packages (from ipython<9->ipympl>=0.4.1->itkwidgets) (4.5.0)\n",
      "Requirement already satisfied: colorama in c:\\users\\benji\\appdata\\local\\programs\\python\\python39\\lib\\site-packages (from ipython<9->ipympl>=0.4.1->itkwidgets) (0.4.6)\n",
      "Requirement already satisfied: importlib-metadata>=4.8.3 in c:\\users\\benji\\appdata\\local\\programs\\python\\python39\\lib\\site-packages (from jupyter-client>=5.3.4->notebook<6.5.0->itkwidgets) (6.6.0)\n",
      "Requirement already satisfied: platformdirs>=2.5 in c:\\users\\benji\\appdata\\local\\programs\\python\\python39\\lib\\site-packages (from jupyter-core>=4.6.1->notebook<6.5.0->itkwidgets) (3.5.0)\n",
      "Requirement already satisfied: pywin32>=300 in c:\\users\\benji\\appdata\\local\\programs\\python\\python39\\lib\\site-packages (from jupyter-core>=4.6.1->notebook<6.5.0->itkwidgets) (306)\n",
      "Requirement already satisfied: beautifulsoup4 in c:\\users\\benji\\appdata\\local\\programs\\python\\python39\\lib\\site-packages (from nbconvert>=5->notebook<6.5.0->itkwidgets) (4.12.2)\n",
      "Requirement already satisfied: bleach in c:\\users\\benji\\appdata\\local\\programs\\python\\python39\\lib\\site-packages (from nbconvert>=5->notebook<6.5.0->itkwidgets) (6.0.0)\n",
      "Requirement already satisfied: defusedxml in c:\\users\\benji\\appdata\\local\\programs\\python\\python39\\lib\\site-packages (from nbconvert>=5->notebook<6.5.0->itkwidgets) (0.7.1)\n",
      "Requirement already satisfied: jupyterlab-pygments in c:\\users\\benji\\appdata\\local\\programs\\python\\python39\\lib\\site-packages (from nbconvert>=5->notebook<6.5.0->itkwidgets) (0.2.2)\n",
      "Requirement already satisfied: markupsafe>=2.0 in c:\\users\\benji\\appdata\\local\\programs\\python\\python39\\lib\\site-packages (from nbconvert>=5->notebook<6.5.0->itkwidgets) (2.1.2)\n",
      "Requirement already satisfied: mistune<3,>=2.0.3 in c:\\users\\benji\\appdata\\local\\programs\\python\\python39\\lib\\site-packages (from nbconvert>=5->notebook<6.5.0->itkwidgets) (2.0.5)\n",
      "Requirement already satisfied: nbclient>=0.5.0 in c:\\users\\benji\\appdata\\local\\programs\\python\\python39\\lib\\site-packages (from nbconvert>=5->notebook<6.5.0->itkwidgets) (0.7.4)\n",
      "Requirement already satisfied: pandocfilters>=1.4.1 in c:\\users\\benji\\appdata\\local\\programs\\python\\python39\\lib\\site-packages (from nbconvert>=5->notebook<6.5.0->itkwidgets) (1.5.0)\n",
      "Requirement already satisfied: tinycss2 in c:\\users\\benji\\appdata\\local\\programs\\python\\python39\\lib\\site-packages (from nbconvert>=5->notebook<6.5.0->itkwidgets) (1.2.1)\n",
      "Requirement already satisfied: fastjsonschema in c:\\users\\benji\\appdata\\local\\programs\\python\\python39\\lib\\site-packages (from nbformat->notebook<6.5.0->itkwidgets) (2.16.3)\n",
      "Requirement already satisfied: jsonschema>=2.6 in c:\\users\\benji\\appdata\\local\\programs\\python\\python39\\lib\\site-packages (from nbformat->notebook<6.5.0->itkwidgets) (4.17.3)\n",
      "Requirement already satisfied: param>=1.7.0 in c:\\users\\benji\\appdata\\local\\programs\\python\\python39\\lib\\site-packages (from pyct>=0.4.4->colorcet->itkwidgets) (1.13.0)\n",
      "Requirement already satisfied: pywinpty>=1.1.0 in c:\\users\\benji\\appdata\\local\\programs\\python\\python39\\lib\\site-packages (from terminado>=0.8.3->notebook<6.5.0->itkwidgets) (2.0.10)\n",
      "Requirement already satisfied: argon2-cffi-bindings in c:\\users\\benji\\appdata\\local\\programs\\python\\python39\\lib\\site-packages (from argon2-cffi->notebook<6.5.0->itkwidgets) (21.2.0)\n",
      "Requirement already satisfied: parso<0.9.0,>=0.8.0 in c:\\users\\benji\\appdata\\local\\programs\\python\\python39\\lib\\site-packages (from jedi>=0.16->ipython<9->ipympl>=0.4.1->itkwidgets) (0.8.3)\n",
      "Requirement already satisfied: attrs>=17.4.0 in c:\\users\\benji\\appdata\\local\\programs\\python\\python39\\lib\\site-packages (from jsonschema>=2.6->nbformat->notebook<6.5.0->itkwidgets) (23.1.0)\n",
      "Requirement already satisfied: pyrsistent!=0.17.0,!=0.17.1,!=0.17.2,>=0.14.0 in c:\\users\\benji\\appdata\\local\\programs\\python\\python39\\lib\\site-packages (from jsonschema>=2.6->nbformat->notebook<6.5.0->itkwidgets) (0.19.3)\n",
      "Requirement already satisfied: wcwidth in c:\\users\\benji\\appdata\\local\\programs\\python\\python39\\lib\\site-packages (from prompt-toolkit!=3.0.37,<3.1.0,>=3.0.30->ipython<9->ipympl>=0.4.1->itkwidgets) (0.2.6)\n",
      "Requirement already satisfied: cffi>=1.0.1 in c:\\users\\benji\\appdata\\local\\programs\\python\\python39\\lib\\site-packages (from argon2-cffi-bindings->argon2-cffi->notebook<6.5.0->itkwidgets) (1.15.1)\n",
      "Requirement already satisfied: soupsieve>1.2 in c:\\users\\benji\\appdata\\local\\programs\\python\\python39\\lib\\site-packages (from beautifulsoup4->nbconvert>=5->notebook<6.5.0->itkwidgets) (2.4.1)\n",
      "Requirement already satisfied: webencodings in c:\\users\\benji\\appdata\\local\\programs\\python\\python39\\lib\\site-packages (from bleach->nbconvert>=5->notebook<6.5.0->itkwidgets) (0.5.1)\n",
      "Requirement already satisfied: executing>=1.2.0 in c:\\users\\benji\\appdata\\local\\programs\\python\\python39\\lib\\site-packages (from stack-data->ipython<9->ipympl>=0.4.1->itkwidgets) (1.2.0)\n",
      "Requirement already satisfied: asttokens>=2.1.0 in c:\\users\\benji\\appdata\\local\\programs\\python\\python39\\lib\\site-packages (from stack-data->ipython<9->ipympl>=0.4.1->itkwidgets) (2.2.1)\n",
      "Requirement already satisfied: pure-eval in c:\\users\\benji\\appdata\\local\\programs\\python\\python39\\lib\\site-packages (from stack-data->ipython<9->ipympl>=0.4.1->itkwidgets) (0.2.2)\n",
      "Requirement already satisfied: pycparser in c:\\users\\benji\\appdata\\local\\programs\\python\\python39\\lib\\site-packages (from cffi>=1.0.1->argon2-cffi-bindings->argon2-cffi->notebook<6.5.0->itkwidgets) (2.21)\n"
     ]
    },
    {
     "name": "stderr",
     "output_type": "stream",
     "text": [
      "WARNING: Ignoring invalid distribution -otebook (c:\\users\\benji\\appdata\\local\\programs\\python\\python39\\lib\\site-packages)\n",
      "WARNING: Ignoring invalid distribution -otebook (c:\\users\\benji\\appdata\\local\\programs\\python\\python39\\lib\\site-packages)\n"
     ]
    }
   ],
   "source": [
    "#!pip install -r requirements.txt\n",
    "#!pip install vtk\n",
    "!pip install --user itkwidgets"
   ]
  },
  {
   "cell_type": "code",
   "execution_count": 2,
   "id": "34cc27c9",
   "metadata": {},
   "outputs": [],
   "source": [
    "import itk\n",
    "import os\n",
    "import matplotlib\n",
    "import matplotlib.pyplot as plt\n",
    "#!/usr/bin/env python\n",
    "\n",
    "import sys\n",
    "import argparse\n",
    "\n",
    "import vtk\n",
    "from ipywidgets import interact, fixed\n",
    "import ipywidgets as widgets\n",
    "from IPython.display import display"
   ]
  },
  {
   "cell_type": "code",
   "execution_count": 5,
   "id": "305be6c9",
   "metadata": {},
   "outputs": [],
   "source": [
    "\n",
    "# Chargement du fichier de l'image volumétrique\n",
    "filename = \"Data/case6_gre1.nrrd\"\n",
    "reader = vtk.vtkNrrdReader()\n",
    "reader.SetFileName(filename)\n",
    "reader.Update()\n",
    "\n",
    "# Obtention des données de l'image\n",
    "image_data = reader.GetOutput()\n",
    "\n",
    "# Création du mapper et de l'acteur pour la visualisation\n",
    "volume_mapper = vtk.vtkSmartVolumeMapper()\n",
    "volume_mapper.SetInputData(image_data)\n",
    "\n",
    "volume_property = vtk.vtkVolumeProperty()\n",
    "volume_property.ShadeOff()\n",
    "volume_property.SetInterpolationTypeToLinear()\n",
    "\n",
    "volume = vtk.vtkVolume()\n",
    "volume.SetMapper(volume_mapper)\n",
    "volume.SetProperty(volume_property)\n",
    "\n",
    "# Création de la fenêtre de rendu, du renderer et ajout du volume\n",
    "renderer = vtk.vtkRenderer()\n",
    "renderer.AddVolume(volume)\n",
    "\n",
    "render_window = vtk.vtkRenderWindow()\n",
    "render_window.AddRenderer(renderer)\n",
    "\n",
    "# Création de l'interacteur pour visualiser la fenêtre de rendu\n",
    "interactor = vtk.vtkRenderWindowInteractor()\n",
    "interactor.SetRenderWindow(render_window)\n",
    "\n",
    "# Exécution de la visualisation\n",
    "interactor.Initialize()\n",
    "render_window.Render()\n",
    "interactor.Start()\n"
   ]
  },
  {
   "cell_type": "code",
   "execution_count": 27,
   "id": "656a8b71",
   "metadata": {},
   "outputs": [
    {
     "ename": "AttributeError",
     "evalue": "'vtkmodules.vtkIOImage.vtkNrrdReader' object has no attribute 'GetPixelTypeAsString'",
     "output_type": "error",
     "traceback": [
      "\u001b[1;31m---------------------------------------------------------------------------\u001b[0m",
      "\u001b[1;31mAttributeError\u001b[0m                            Traceback (most recent call last)",
      "Cell \u001b[1;32mIn[27], line 1\u001b[0m\n\u001b[1;32m----> 1\u001b[0m \u001b[43mreader\u001b[49m\u001b[38;5;241;43m.\u001b[39;49m\u001b[43mGetPixelTypeAsString\u001b[49m()\n",
      "\u001b[1;31mAttributeError\u001b[0m: 'vtkmodules.vtkIOImage.vtkNrrdReader' object has no attribute 'GetPixelTypeAsString'"
     ]
    }
   ],
   "source": [
    "reader.GetPixelTypeAsString()"
   ]
  },
  {
   "cell_type": "code",
   "execution_count": 30,
   "id": "36ee998c",
   "metadata": {},
   "outputs": [
    {
     "ename": "TemplateTypeError",
     "evalue": "itk.Image is not wrapped for input type `itk.Image[itk.SS,3], int`.\n\nTo limit the size of the package, only a limited number of\ntypes are available in ITK Python. To print the supported\ntypes, run the following command in your python environment:\n\n    itk.Image.GetTypes()\n\nPossible solutions:\n* If you are an application user:\n** Convert your input image into a supported format (see below).\n** Contact developer to report the issue.\n* If you are an application developer, force input images to be\nloaded in a supported pixel type.\n\n    e.g.: instance = itk.Image[itk.RGBPixel[itk.UC], int].New(my_input)\n\n* (Advanced) If you are an application developer, build ITK Python yourself and\nturned to `ON` the corresponding CMake option to wrap the pixel type or image\ndimension you need. When configuring ITK with CMake, you can set\n`ITK_WRAP_${type}` (replace ${type} with appropriate pixel type such as\n`double`). If you need to support images with 4 or 5 dimensions, you can add\nthese dimensions to the list of dimensions in the CMake variable\n`ITK_WRAP_IMAGE_DIMS`.\n\nSupported input types:\n\nitk.RGBPixel[itk.UC]\nitk.RGBAPixel[itk.UC]\nitk.Vector[itk.F,2]\nitk.Vector[itk.F,3]\nitk.Vector[itk.F,4]\nitk.CovariantVector[itk.F,2]\nitk.CovariantVector[itk.F,3]\nitk.CovariantVector[itk.F,4]\nitk.SS\nitk.UC\nitk.US\nitk.F\nitk.D\nitk.complex[itk.D]\nitk.complex[itk.F]\nitk.Vector[itk.D,2]\nitk.Vector[itk.D,3]\nitk.Vector[itk.D,4]\nitk.SI\nitk.UI\nitk.UL\nitk.ULL\nitk.B\nitk.FixedArray[itk.F,2]\nitk.FixedArray[itk.D,2]\nitk.Offset[2]\nitk.SymmetricSecondRankTensor[itk.D,2]\nitk.SymmetricSecondRankTensor[itk.F,2]\nitk.RGBPixel[itk.UC]\nitk.RGBAPixel[itk.UC]\nitk.Vector[itk.F,2]\nitk.Vector[itk.F,3]\nitk.Vector[itk.F,4]\nitk.CovariantVector[itk.F,2]\nitk.CovariantVector[itk.F,3]\nitk.CovariantVector[itk.F,4]\nitk.SS\nitk.UC\nitk.US\nitk.F\nitk.D\nitk.complex[itk.D]\nitk.complex[itk.F]\nitk.Vector[itk.D,2]\nitk.Vector[itk.D,3]\nitk.Vector[itk.D,4]\nitk.SI\nitk.UI\nitk.UL\nitk.ULL\nitk.B\nitk.FixedArray[itk.F,3]\nitk.FixedArray[itk.D,3]\nitk.Offset[3]\nitk.SymmetricSecondRankTensor[itk.D,3]\nitk.SymmetricSecondRankTensor[itk.F,3]\nitk.RGBPixel[itk.UC]\nitk.RGBAPixel[itk.UC]\nitk.Vector[itk.F,2]\nitk.Vector[itk.F,3]\nitk.Vector[itk.F,4]\nitk.CovariantVector[itk.F,2]\nitk.CovariantVector[itk.F,3]\nitk.CovariantVector[itk.F,4]\nitk.SS\nitk.UC\nitk.US\nitk.F\nitk.D\nitk.complex[itk.D]\nitk.complex[itk.F]\nitk.Vector[itk.D,2]\nitk.Vector[itk.D,3]\nitk.Vector[itk.D,4]\nitk.SI\nitk.UI\nitk.UL\nitk.ULL\nitk.B\nitk.FixedArray[itk.F,4]\nitk.FixedArray[itk.D,4]\nitk.Offset[4]\nitk.SymmetricSecondRankTensor[itk.D,4]\nitk.SymmetricSecondRankTensor[itk.F,4]\nitk.Vector[itk.F,1]\nitk.Vector[itk.F,1]\nitk.Vector[itk.D,2]\nitk.Vector[itk.D,3]\nitk.Vector[itk.D,4]\nitk.Vector[itk.F,1]\nitk.CovariantVector[itk.D,2]\nitk.CovariantVector[itk.D,3]\nitk.CovariantVector[itk.D,4]\nitk.CovariantVector[itk.D,2]\nitk.CovariantVector[itk.D,3]\nitk.CovariantVector[itk.D,4]\nitk.CovariantVector[itk.D,2]\nitk.CovariantVector[itk.D,3]\nitk.CovariantVector[itk.D,4]\nitk.NormalBandNode[itk.Image[itk.F,2]]\nitk.NormalBandNode[itk.Image[itk.D,2]]\nitk.NormalBandNode[itk.Image[itk.F,3]]\nitk.NormalBandNode[itk.Image[itk.D,3]]\nitk.NormalBandNode[itk.Image[itk.F,4]]\nitk.NormalBandNode[itk.Image[itk.D,4]]\n",
     "output_type": "error",
     "traceback": [
      "\u001b[1;31m---------------------------------------------------------------------------\u001b[0m",
      "\u001b[1;31mKeyError\u001b[0m                                  Traceback (most recent call last)",
      "File \u001b[1;32mc:\\users\\benji\\appdata\\local\\programs\\python\\python39\\lib\\site-packages\\itk\\support\\template_class.py:525\u001b[0m, in \u001b[0;36mitkTemplate.__getitem__\u001b[1;34m(self, parameters)\u001b[0m\n\u001b[0;32m    524\u001b[0m \u001b[38;5;28;01mtry\u001b[39;00m:\n\u001b[1;32m--> 525\u001b[0m     this_item \u001b[38;5;241m=\u001b[39m \u001b[38;5;28;43mself\u001b[39;49m\u001b[38;5;241;43m.\u001b[39;49m\u001b[43m__template__\u001b[49m\u001b[43m[\u001b[49m\u001b[43mkey\u001b[49m\u001b[43m]\u001b[49m\n\u001b[0;32m    526\u001b[0m \u001b[38;5;28;01mexcept\u001b[39;00m \u001b[38;5;167;01mKeyError\u001b[39;00m:\n",
      "\u001b[1;31mKeyError\u001b[0m: (<class 'itk.itkImagePython.itkImageSS3'>, 3)",
      "\nDuring handling of the above exception, another exception occurred:\n",
      "\u001b[1;31mTemplateTypeError\u001b[0m                         Traceback (most recent call last)",
      "Cell \u001b[1;32mIn[30], line 7\u001b[0m\n\u001b[0;32m      5\u001b[0m filename \u001b[38;5;241m=\u001b[39m \u001b[38;5;124m\"\u001b[39m\u001b[38;5;124mData/case6_gre1.nrrd\u001b[39m\u001b[38;5;124m\"\u001b[39m\n\u001b[0;32m      6\u001b[0m ImageType \u001b[38;5;241m=\u001b[39m itk\u001b[38;5;241m.\u001b[39mImage[itk\u001b[38;5;241m.\u001b[39mSS, \u001b[38;5;241m3\u001b[39m]\n\u001b[1;32m----> 7\u001b[0m image \u001b[38;5;241m=\u001b[39m \u001b[43mitk\u001b[49m\u001b[38;5;241;43m.\u001b[39;49m\u001b[43mimread\u001b[49m\u001b[43m(\u001b[49m\u001b[43mfilename\u001b[49m\u001b[43m,\u001b[49m\u001b[43m \u001b[49m\u001b[43mpixel_type\u001b[49m\u001b[38;5;241;43m=\u001b[39;49m\u001b[43mImageType\u001b[49m\u001b[43m)\u001b[49m\n\u001b[0;32m      9\u001b[0m \u001b[38;5;66;03m# Création du filtre de croissance de région\u001b[39;00m\n\u001b[0;32m     10\u001b[0m region_growing_filter \u001b[38;5;241m=\u001b[39m itk\u001b[38;5;241m.\u001b[39mConfidenceConnectedImageFilter[ImageType, ImageType]\u001b[38;5;241m.\u001b[39mNew()\n",
      "File \u001b[1;32mc:\\users\\benji\\appdata\\local\\programs\\python\\python39\\lib\\site-packages\\itk\\support\\extras.py:1290\u001b[0m, in \u001b[0;36mimread\u001b[1;34m(filename, pixel_type, fallback_only, imageio)\u001b[0m\n\u001b[0;32m   1288\u001b[0m         ImageType \u001b[38;5;241m=\u001b[39m itk\u001b[38;5;241m.\u001b[39mVectorImage[itk\u001b[38;5;241m.\u001b[39mtemplate(pixel_type)[\u001b[38;5;241m1\u001b[39m][\u001b[38;5;241m0\u001b[39m], dimension]\n\u001b[0;32m   1289\u001b[0m     \u001b[38;5;28;01melse\u001b[39;00m:\n\u001b[1;32m-> 1290\u001b[0m         ImageType \u001b[38;5;241m=\u001b[39m \u001b[43mitk\u001b[49m\u001b[38;5;241;43m.\u001b[39;49m\u001b[43mImage\u001b[49m\u001b[43m[\u001b[49m\u001b[43mpixel_type\u001b[49m\u001b[43m,\u001b[49m\u001b[43m \u001b[49m\u001b[43mdimension\u001b[49m\u001b[43m]\u001b[49m\n\u001b[0;32m   1291\u001b[0m     reader \u001b[38;5;241m=\u001b[39m template_reader_type[ImageType]\u001b[38;5;241m.\u001b[39mNew(\u001b[38;5;241m*\u001b[39m\u001b[38;5;241m*\u001b[39mkwargs)\n\u001b[0;32m   1292\u001b[0m \u001b[38;5;28;01melse\u001b[39;00m:\n",
      "File \u001b[1;32mc:\\users\\benji\\appdata\\local\\programs\\python\\python39\\lib\\site-packages\\itk\\support\\template_class.py:529\u001b[0m, in \u001b[0;36mitkTemplate.__getitem__\u001b[1;34m(self, parameters)\u001b[0m\n\u001b[0;32m    526\u001b[0m \u001b[38;5;28;01mexcept\u001b[39;00m \u001b[38;5;167;01mKeyError\u001b[39;00m:\n\u001b[0;32m    527\u001b[0m     \u001b[38;5;28;01mimport\u001b[39;00m \u001b[38;5;21;01mitk\u001b[39;00m\n\u001b[1;32m--> 529\u001b[0m     \u001b[38;5;28;01mraise\u001b[39;00m itk\u001b[38;5;241m.\u001b[39mTemplateTypeError(\u001b[38;5;28mself\u001b[39m, key)\n\u001b[0;32m    530\u001b[0m \u001b[38;5;28;01mreturn\u001b[39;00m this_item\n",
      "\u001b[1;31mTemplateTypeError\u001b[0m: itk.Image is not wrapped for input type `itk.Image[itk.SS,3], int`.\n\nTo limit the size of the package, only a limited number of\ntypes are available in ITK Python. To print the supported\ntypes, run the following command in your python environment:\n\n    itk.Image.GetTypes()\n\nPossible solutions:\n* If you are an application user:\n** Convert your input image into a supported format (see below).\n** Contact developer to report the issue.\n* If you are an application developer, force input images to be\nloaded in a supported pixel type.\n\n    e.g.: instance = itk.Image[itk.RGBPixel[itk.UC], int].New(my_input)\n\n* (Advanced) If you are an application developer, build ITK Python yourself and\nturned to `ON` the corresponding CMake option to wrap the pixel type or image\ndimension you need. When configuring ITK with CMake, you can set\n`ITK_WRAP_${type}` (replace ${type} with appropriate pixel type such as\n`double`). If you need to support images with 4 or 5 dimensions, you can add\nthese dimensions to the list of dimensions in the CMake variable\n`ITK_WRAP_IMAGE_DIMS`.\n\nSupported input types:\n\nitk.RGBPixel[itk.UC]\nitk.RGBAPixel[itk.UC]\nitk.Vector[itk.F,2]\nitk.Vector[itk.F,3]\nitk.Vector[itk.F,4]\nitk.CovariantVector[itk.F,2]\nitk.CovariantVector[itk.F,3]\nitk.CovariantVector[itk.F,4]\nitk.SS\nitk.UC\nitk.US\nitk.F\nitk.D\nitk.complex[itk.D]\nitk.complex[itk.F]\nitk.Vector[itk.D,2]\nitk.Vector[itk.D,3]\nitk.Vector[itk.D,4]\nitk.SI\nitk.UI\nitk.UL\nitk.ULL\nitk.B\nitk.FixedArray[itk.F,2]\nitk.FixedArray[itk.D,2]\nitk.Offset[2]\nitk.SymmetricSecondRankTensor[itk.D,2]\nitk.SymmetricSecondRankTensor[itk.F,2]\nitk.RGBPixel[itk.UC]\nitk.RGBAPixel[itk.UC]\nitk.Vector[itk.F,2]\nitk.Vector[itk.F,3]\nitk.Vector[itk.F,4]\nitk.CovariantVector[itk.F,2]\nitk.CovariantVector[itk.F,3]\nitk.CovariantVector[itk.F,4]\nitk.SS\nitk.UC\nitk.US\nitk.F\nitk.D\nitk.complex[itk.D]\nitk.complex[itk.F]\nitk.Vector[itk.D,2]\nitk.Vector[itk.D,3]\nitk.Vector[itk.D,4]\nitk.SI\nitk.UI\nitk.UL\nitk.ULL\nitk.B\nitk.FixedArray[itk.F,3]\nitk.FixedArray[itk.D,3]\nitk.Offset[3]\nitk.SymmetricSecondRankTensor[itk.D,3]\nitk.SymmetricSecondRankTensor[itk.F,3]\nitk.RGBPixel[itk.UC]\nitk.RGBAPixel[itk.UC]\nitk.Vector[itk.F,2]\nitk.Vector[itk.F,3]\nitk.Vector[itk.F,4]\nitk.CovariantVector[itk.F,2]\nitk.CovariantVector[itk.F,3]\nitk.CovariantVector[itk.F,4]\nitk.SS\nitk.UC\nitk.US\nitk.F\nitk.D\nitk.complex[itk.D]\nitk.complex[itk.F]\nitk.Vector[itk.D,2]\nitk.Vector[itk.D,3]\nitk.Vector[itk.D,4]\nitk.SI\nitk.UI\nitk.UL\nitk.ULL\nitk.B\nitk.FixedArray[itk.F,4]\nitk.FixedArray[itk.D,4]\nitk.Offset[4]\nitk.SymmetricSecondRankTensor[itk.D,4]\nitk.SymmetricSecondRankTensor[itk.F,4]\nitk.Vector[itk.F,1]\nitk.Vector[itk.F,1]\nitk.Vector[itk.D,2]\nitk.Vector[itk.D,3]\nitk.Vector[itk.D,4]\nitk.Vector[itk.F,1]\nitk.CovariantVector[itk.D,2]\nitk.CovariantVector[itk.D,3]\nitk.CovariantVector[itk.D,4]\nitk.CovariantVector[itk.D,2]\nitk.CovariantVector[itk.D,3]\nitk.CovariantVector[itk.D,4]\nitk.CovariantVector[itk.D,2]\nitk.CovariantVector[itk.D,3]\nitk.CovariantVector[itk.D,4]\nitk.NormalBandNode[itk.Image[itk.F,2]]\nitk.NormalBandNode[itk.Image[itk.D,2]]\nitk.NormalBandNode[itk.Image[itk.F,3]]\nitk.NormalBandNode[itk.Image[itk.D,3]]\nitk.NormalBandNode[itk.Image[itk.F,4]]\nitk.NormalBandNode[itk.Image[itk.D,4]]\n"
     ]
    }
   ],
   "source": [
    "import itk\n",
    "from itkwidgets import view\n",
    "\n",
    "# Chargement du fichier de l'image volumétrique\n",
    "filename = \"Data/case6_gre1.nrrd\"\n",
    "ImageType = itk.Image[itk.SS, 3]\n",
    "image = itk.imread(filename, pixel_type=ImageType)\n",
    "\n",
    "# Création du filtre de croissance de région\n",
    "region_growing_filter = itk.ConfidenceConnectedImageFilter[ImageType, ImageType].New()\n",
    "region_growing_filter.SetInput(image)\n",
    "region_growing_filter.SetSeed([x, y, z])  # Coordonnées de la graine de départ pour la segmentation\n",
    "region_growing_filter.SetNumberOfIterations(5)  # Nombre d'itérations pour la croissance de région\n",
    "region_growing_filter.SetMultiplier(2.5)  # Multiplieur pour le critère de croissance\n",
    "\n",
    "# Exécution du filtre de croissance de région\n",
    "segmented_image = region_growing_filter.GetOutput()\n",
    "segmented_image.Update()\n",
    "\n",
    "# Visualisation de l'image segmentée\n",
    "view(segmented_image, ui_collapsed=True)\n",
    "\n"
   ]
  },
  {
   "cell_type": "code",
   "execution_count": null,
   "id": "62cdebb8",
   "metadata": {},
   "outputs": [],
   "source": []
  }
 ],
 "metadata": {
  "kernelspec": {
   "display_name": "Python 3 (ipykernel)",
   "language": "python",
   "name": "python3"
  },
  "language_info": {
   "codemirror_mode": {
    "name": "ipython",
    "version": 3
   },
   "file_extension": ".py",
   "mimetype": "text/x-python",
   "name": "python",
   "nbconvert_exporter": "python",
   "pygments_lexer": "ipython3",
   "version": "3.9.1"
  }
 },
 "nbformat": 4,
 "nbformat_minor": 5
}

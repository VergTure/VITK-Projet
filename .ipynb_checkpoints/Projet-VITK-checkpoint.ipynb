{
 "cells": [
  {
   "cell_type": "markdown",
   "id": "d0f7f2ac",
   "metadata": {},
   "source": [
    "# VITK Project\n",
    "\n",
    "Benjamin Clene\n",
    "Yanis Farhat\n",
    "Theo Bonzi"
   ]
  },
  {
   "cell_type": "code",
   "execution_count": 15,
   "id": "620d74d9",
   "metadata": {
    "collapsed": true
   },
   "outputs": [
    {
     "name": "stdout",
     "output_type": "stream",
     "text": [
      "Requirement already satisfied: SimpleITK in c:\\users\\benji\\appdata\\local\\programs\\python\\python39\\lib\\site-packages (2.2.1)\n"
     ]
    },
    {
     "name": "stderr",
     "output_type": "stream",
     "text": [
      "WARNING: Ignoring invalid distribution -otebook (c:\\users\\benji\\appdata\\local\\programs\\python\\python39\\lib\\site-packages)\n",
      "WARNING: Ignoring invalid distribution -otebook (c:\\users\\benji\\appdata\\local\\programs\\python\\python39\\lib\\site-packages)\n"
     ]
    }
   ],
   "source": [
    "#!pip install -r requirements.txt\n",
    "#!pip install vtk\n",
    "#!pip install --user itkwidgets"
   ]
  },
  {
   "cell_type": "code",
   "execution_count": 140,
   "id": "34cc27c9",
   "metadata": {},
   "outputs": [],
   "source": [
    "import itk\n",
    "import os\n",
    "import matplotlib\n",
    "import matplotlib.pyplot as plt\n",
    "import sys\n",
    "import argparse\n",
    "import numpy as np\n",
    "import vtk\n",
    "from ipywidgets import interact, fixed\n",
    "import ipywidgets as widgets\n",
    "from IPython.display import display\n",
    "from tqdm import tqdm"
   ]
  },
  {
   "cell_type": "code",
   "execution_count": 158,
   "id": "305be6c9",
   "metadata": {},
   "outputs": [
    {
     "name": "stdout",
     "output_type": "stream",
     "text": [
      "itkSize3 ([256, 256, 176])\n"
     ]
    },
    {
     "data": {
      "application/vnd.jupyter.widget-view+json": {
       "model_id": "a8e38f123b314c98a43ee3fc2724f2bf",
       "version_major": 2,
       "version_minor": 0
      },
      "text/plain": [
       "interactive(children=(IntSlider(value=10, description='Couche', max=175), Output()), _dom_classes=('widget-int…"
      ]
     },
     "metadata": {},
     "output_type": "display_data"
    }
   ],
   "source": [
    "path1 = \"Data/case6_gre1.nrrd\"\n",
    "path2 = \"Data/case6_gre2.nrrd\"\n",
    "path3 = \"Data/recalage.nrrd\"\n",
    "path4 = \"Data/segmented1.nrrd\"\n",
    "path5 = \"Data/segmented2.nrrd\"\n",
    "\n",
    "def display_nrrd(path):\n",
    "    scan = itk.imread(path)\n",
    "    def update_image(layer_index):\n",
    "        plt.imshow(scan[layer_index,:, :], cmap='gray')\n",
    "        plt.axis('off')\n",
    "        plt.show()\n",
    "\n",
    "    # Obtention de la région la plus grande possible de l'image\n",
    "    region = scan.GetLargestPossibleRegion()\n",
    "    size = region.GetSize()   \n",
    "    print(size)\n",
    "    # Création du slider\n",
    "    layer_slider = widgets.IntSlider(min=0, max=size[2] - 1, value=10, description='Couche')\n",
    "\n",
    "    # valeur du slider change\n",
    "    widgets.interact(update_image, layer_index=layer_slider)\n",
    "    \n",
    "def from_list_to_nrrd(list_image, output):\n",
    "    nrrd_image = itk.GetImageFromArray(list_image)\n",
    "    itk.imwrite(nrrd_image,output)\n",
    "    \n",
    "#display_nrrd(path1)\n",
    "#display_nrrd(path2)\n",
    "display_nrrd(path3)\n",
    "#display_nrrd(path4)\n",
    "#display_nrrd(path5)"
   ]
  },
  {
   "cell_type": "code",
   "execution_count": 149,
   "id": "86b9af44",
   "metadata": {},
   "outputs": [
    {
     "name": "stdout",
     "output_type": "stream",
     "text": [
      "itkSize3 ([256, 256, 176])\n",
      "itkSize3 ([256, 256, 176])\n"
     ]
    }
   ],
   "source": [
    "PixelType = itk.F\n",
    "scan1 = itk.imread(\"Data/case6_gre1.nrrd\",PixelType)\n",
    "scan2 = itk.imread(\"Data/case6_gre2.nrrd\",PixelType)\n",
    "\n",
    "region1 = scan1.GetLargestPossibleRegion()\n",
    "region2 = scan2.GetLargestPossibleRegion()\n",
    "\n",
    "size_scan1 = region1.GetSize()\n",
    "size_scan2 = region2.GetSize()\n",
    "print(size_scan1)\n",
    "print(size_scan2)\n",
    "\n",
    "def recalage(fixed_image, moving_image):\n",
    "    dimension = fixed_image.GetImageDimension()\n",
    "    FixedImageType = itk.Image[itk.F,2]\n",
    "    MovingImageType = itk.Image[itk.F,2]\n",
    "\n",
    "    TransformType = itk.TranslationTransform[itk.D, dimension]\n",
    "    initialTransform = TransformType.New()\n",
    "\n",
    "    optimizer = itk.RegularStepGradientDescentOptimizerv4.New()\n",
    "\n",
    "    optimizer.SetLearningRate(4)\n",
    "    optimizer.SetMinimumStepLength(0.001)\n",
    "    optimizer.SetNumberOfIterations(2)\n",
    "\n",
    "    metric = itk.MeanSquaresImageToImageMetricv4[FixedImageType, MovingImageType].New()\n",
    "    fixed_interpolation = itk.LinearInterpolateImageFunction[FixedImageType, itk.D].New()\n",
    "    metric.SetFixedInterpolator(fixed_interpolation)\n",
    "\n",
    "    registration = itk.ImageRegistrationMethodv4.New(FixedImage=fixed_image, MovingImage=moving_image, Metric=metric,\n",
    "                                                     Optimizer=optimizer, InitialTransform=initialTransform)\n",
    "\n",
    "    moving_initial_transform = TransformType.New()\n",
    "    initial_parameters = moving_initial_transform.GetParameters()\n",
    "    initial_parameters[0] = 0\n",
    "    initial_parameters[1] = 0\n",
    "    moving_initial_transform.SetParameters(initial_parameters)\n",
    "    registration.SetMovingInitialTransform(moving_initial_transform)\n",
    "\n",
    "    identity_transform = TransformType.New()\n",
    "    identity_transform.SetIdentity()\n",
    "    registration.SetFixedInitialTransform(identity_transform)\n",
    "\n",
    "    registration.SetNumberOfLevels(1)\n",
    "\n",
    "    registration.Update()\n",
    "\n",
    "    transform = registration.GetTransform()\n",
    "    final_parameters = transform.GetParameters()\n",
    "    translation_along_x = final_parameters.GetElement(0)\n",
    "    translation_along_y = final_parameters.GetElement(1)\n",
    "\n",
    "    number_of_iterations = optimizer.GetCurrentIteration()\n",
    "\n",
    "    best_value = optimizer.GetValue()\n",
    "\n",
    "    CompositeTransformType = itk.CompositeTransform[itk.D, dimension]\n",
    "    output_composite_transform = CompositeTransformType.New()\n",
    "    output_composite_transform.AddTransform(moving_initial_transform)\n",
    "    output_composite_transform.AddTransform(registration.GetModifiableTransform())\n",
    "\n",
    "    resampler = itk.ResampleImageFilter.New(Input=moving_image, Transform=transform, UseReferenceImage=True,\n",
    "                                            ReferenceImage=fixed_image)\n",
    "    resampler.SetDefaultPixelValue(100)\n",
    "\n",
    "    subtraction = itk.SubtractImageFilter(Input1=fixed_image, Input2=resampler)\n",
    "    res = itk.GetArrayViewFromImage(subtraction)\n",
    "    return res"
   ]
  },
  {
   "cell_type": "code",
   "execution_count": 150,
   "id": "8aaf63f5",
   "metadata": {},
   "outputs": [
    {
     "name": "stderr",
     "output_type": "stream",
     "text": [
      "100%|████████████████████████████████████████████████████████████████████████████████| 256/256 [00:02<00:00, 98.97it/s]"
     ]
    },
    {
     "name": "stdout",
     "output_type": "stream",
     "text": [
      "(176, 256, 256)\n"
     ]
    },
    {
     "name": "stderr",
     "output_type": "stream",
     "text": [
      "\n"
     ]
    }
   ],
   "source": [
    "# Appel de la fonction sur toutes les couches en X du scans\n",
    "recalage_image = np.zeros((size_scan1[2],size_scan1[1],size_scan1[0]))\n",
    "for index in tqdm(range(size_scan1[0])):\n",
    "    image1 = scan1[:,index, :]\n",
    "    image1_itk = itk.GetImageFromArray(image1)\n",
    "    image2 = scan2[:,index,:]\n",
    "    image2_itk = itk.GetImageFromArray(image2)\n",
    "\n",
    "    recalage_image[:,index,:] = recalage(image1_itk, image2_itk)\n",
    "\n",
    "print(recalage_image.shape)"
   ]
  },
  {
   "cell_type": "code",
   "execution_count": 155,
   "id": "43cb230c",
   "metadata": {},
   "outputs": [],
   "source": [
    "from_list_to_nrrd(recalage_image,\"Data/recalage.nrrd\")"
   ]
  },
  {
   "cell_type": "code",
   "execution_count": 161,
   "id": "ddac232c",
   "metadata": {},
   "outputs": [],
   "source": [
    "def segmentation_threshold(path, output):\n",
    "    # Load the image\n",
    "    image = itk.imread(path)\n",
    "\n",
    "    # Valeur Threshold\n",
    "    lower_threshold = 125\n",
    "    upper_threshold = 200\n",
    "\n",
    "    threshold_filter = itk.BinaryThresholdImageFilter.New(image)\n",
    "    threshold_filter.SetLowerThreshold(lower_threshold)\n",
    "    threshold_filter.SetUpperThreshold(upper_threshold)\n",
    "    threshold_filter.SetInsideValue(1)\n",
    "    threshold_filter.SetOutsideValue(0)\n",
    "    threshold_filter.Update()\n",
    "\n",
    "    # Image Segmenter\n",
    "    segmented_image = threshold_filter.GetOutput()\n",
    "    itk.imwrite(segmented_image, output)\n",
    "    \n",
    "segmentation_threshold('new_Data/case6_gre2.nrrd','new_Data/segmented2.nrrd')"
   ]
  },
  {
   "cell_type": "code",
   "execution_count": null,
   "id": "afb6ebc5",
   "metadata": {},
   "outputs": [],
   "source": []
  }
 ],
 "metadata": {
  "kernelspec": {
   "display_name": "Python 3 (ipykernel)",
   "language": "python",
   "name": "python3"
  },
  "language_info": {
   "codemirror_mode": {
    "name": "ipython",
    "version": 3
   },
   "file_extension": ".py",
   "mimetype": "text/x-python",
   "name": "python",
   "nbconvert_exporter": "python",
   "pygments_lexer": "ipython3",
   "version": "3.9.1"
  }
 },
 "nbformat": 4,
 "nbformat_minor": 5
}
